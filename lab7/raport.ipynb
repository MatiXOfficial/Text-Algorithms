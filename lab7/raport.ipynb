{
 "cells": [
  {
   "cell_type": "markdown",
   "metadata": {},
   "source": [
    "# Algorytmy Tekstowe - lab. 7\n",
    "# Wyszukiwanie wyrażeń regularnych\n",
    "### Mateusz Kocot\n",
    "-------------------------------------------------------\n",
    "Cała funkcjonalność została zaimplementowana w pliku `regex_automaton.py` na podstawie algorytmów z książki:<br>\n",
    "M. Crochemore, W. Rytter, *Text Algorithms*, 157-165"
   ]
  },
  {
   "cell_type": "code",
   "execution_count": 1,
   "metadata": {},
   "outputs": [],
   "source": [
    "from regex_automaton import *"
   ]
  },
  {
   "cell_type": "markdown",
   "metadata": {},
   "source": [
    "Przykładowy automat zbudowany na podstawie wyrażenia `\\d.([ab]+c)*`."
   ]
  },
  {
   "cell_type": "code",
   "execution_count": 2,
   "metadata": {},
   "outputs": [
    {
     "name": "stdout",
     "output_type": "stream",
     "text": [
      "0: [('\\\\d', 1)]\n",
      "1: [('dot', 2)]\n",
      "2: [('empty', 3), ('empty', 8)]\n",
      "3: [('empty', 4)]\n",
      "4: [({'a', 'b'}, 5)]\n",
      "5: [('empty', 4), ('empty', 6)]\n",
      "6: [('c', 7)]\n",
      "7: [('empty', 3), ('empty', 8)]\n",
      "8: []\n",
      "\n"
     ]
    }
   ],
   "source": [
    "exp = r'\\d.([ab]+c)*'\n",
    "print(build_automaton(exp))"
   ]
  },
  {
   "cell_type": "markdown",
   "metadata": {},
   "source": [
    "http://ivanzuzak.info/noam/webapps/fsm_simulator/\n",
    "<img src=\"example_automaton.png\">"
   ]
  },
  {
   "cell_type": "code",
   "execution_count": 3,
   "metadata": {},
   "outputs": [],
   "source": [
    "text = '''Saruman believes it is only great power that can hold evil in check, but that is not what I\n",
    "have found. I found it is the small everyday deeds of ordinary folk that keep the darkness at bay. Small\n",
    "acts of kindness and love. Why Bilbo Baggins? Perhaps because I am afraid, and he gives me courage.'''"
   ]
  },
  {
   "cell_type": "markdown",
   "metadata": {},
   "source": [
    "### Wyrażenia mogą zawierać:\n",
    "1. Litery, cyfry i spacje."
   ]
  },
  {
   "cell_type": "code",
   "execution_count": 4,
   "metadata": {},
   "outputs": [
    {
     "name": "stdout",
     "output_type": "stream",
     "text": [
      "2 occurrences of \"found\"\n",
      "Saruman believes it is only great power that can hold evil in check, but that is not what I\n",
      "have found[<--HERE]. I found[<--HERE] it is the small everyday deeds of ordinary folk that keep the darkness at bay. Small\n",
      "acts of kindness and love. Why Bilbo Baggins? Perhaps because I am afraid, and he gives me courage.\n",
      "-----------------------------------\n",
      "1 occurrences of \"kindness and love\"\n",
      "Saruman believes it is only great power that can hold evil in check, but that is not what I\n",
      "have found. I found it is the small everyday deeds of ordinary folk that keep the darkness at bay. Small\n",
      "acts of kindness and love[<--HERE]. Why Bilbo Baggins? Perhaps because I am afraid, and he gives me courage.\n"
     ]
    }
   ],
   "source": [
    "exp = 'found'\n",
    "regex_print_find(text, exp)\n",
    "print('-----------------------------------')\n",
    "\n",
    "exp = 'kindness and love'\n",
    "regex_print_find(text, exp)"
   ]
  },
  {
   "cell_type": "markdown",
   "metadata": {},
   "source": [
    "2. Kropki (.), które reprezentują dowolny znak."
   ]
  },
  {
   "cell_type": "code",
   "execution_count": 5,
   "metadata": {},
   "outputs": [
    {
     "name": "stdout",
     "output_type": "stream",
     "text": [
      "6 occurrences of \" i.\"\n",
      "Saruman believes it[<--HERE] is[<--HERE] only great power that can hold evil in[<--HERE] check, but that is[<--HERE] not what I\n",
      "have found. I found it[<--HERE] is[<--HERE] the small everyday deeds of ordinary folk that keep the darkness at bay. Small\n",
      "acts of kindness and love. Why Bilbo Baggins? Perhaps because I am afraid, and he gives me courage.\n",
      "-----------------------------------\n",
      "1 occurrences of \"f..k\"\n",
      "Saruman believes it is only great power that can hold evil in check, but that is not what I\n",
      "have found. I found it is the small everyday deeds of ordinary folk[<--HERE] that keep the darkness at bay. Small\n",
      "acts of kindness and love. Why Bilbo Baggins? Perhaps because I am afraid, and he gives me courage.\n",
      "-----------------------------------\n"
     ]
    }
   ],
   "source": [
    "exp = ' i.'\n",
    "regex_print_find(text, exp)\n",
    "print('-----------------------------------')\n",
    "\n",
    "exp = 'f..k'\n",
    "regex_print_find(text, exp)\n",
    "print('-----------------------------------')"
   ]
  },
  {
   "cell_type": "markdown",
   "metadata": {},
   "source": [
    "3. Operatory:\n",
    "  - gwiazdkę (*) - 0 lub więcej powtórzeń poprzedniego symbolu,\n",
    "  - plus (+) - 1 lub więcej powtórzeń poprzedniego symbolu,\n",
    "  - znak zapytania (?) - 0 lub 1 powtórzenie poprzedniego symbolu."
   ]
  },
  {
   "cell_type": "code",
   "execution_count": 6,
   "metadata": {},
   "outputs": [
    {
     "name": "stdout",
     "output_type": "stream",
     "text": [
      "3 occurrences of \"S.*n \"\n",
      "Saruman [<--HERE]believes it is only great power that can [<--HERE]hold evil in [<--HERE]check, but that is not what I\n",
      "have found. I found it is the small everyday deeds of ordinary folk that keep the darkness at bay. Small\n",
      "acts of kindness and love. Why Bilbo Baggins? Perhaps because I am afraid, and he gives me courage.\n",
      "-----------------------------------\n",
      "1 occurrences of \"Bag+ins\"\n",
      "Saruman believes it is only great power that can hold evil in check, but that is not what I\n",
      "have found. I found it is the small everyday deeds of ordinary folk that keep the darkness at bay. Small\n",
      "acts of kindness and love. Why Bilbo Baggins[<--HERE]? Perhaps because I am afraid, and he gives me courage.\n",
      "-----------------------------------\n",
      "5 occurrences of \"it?s? \"\n",
      "Saruman believes it [<--HERE]is [<--HERE]only great power that can hold evil in check, but that is [<--HERE]not what I\n",
      "have found. I found it [<--HERE]is [<--HERE]the small everyday deeds of ordinary folk that keep the darkness at bay. Small\n",
      "acts of kindness and love. Why Bilbo Baggins? Perhaps because I am afraid, and he gives me courage.\n"
     ]
    }
   ],
   "source": [
    "exp = 'S.*n '\n",
    "regex_print_find(text, exp)\n",
    "print('-----------------------------------')\n",
    "\n",
    "exp = 'Bag+ins'\n",
    "regex_print_find(text, exp)\n",
    "print('-----------------------------------')\n",
    "\n",
    "exp = 'it?s? '\n",
    "regex_print_find(text, exp)"
   ]
  },
  {
   "cell_type": "markdown",
   "metadata": {},
   "source": [
    "4. Nawiasy (), które mogą być zagnieżdżone. W przypadku operatorów z punktu 3., zawartość nawiasów jest pojedynczym symbolem."
   ]
  },
  {
   "cell_type": "code",
   "execution_count": 7,
   "metadata": {},
   "outputs": [
    {
     "name": "stdout",
     "output_type": "stream",
     "text": [
      "1 occurrences of \"Why (Bilbo)* Baggins\"\n",
      "Saruman believes it is only great power that can hold evil in check, but that is not what I\n",
      "have found. I found it is the small everyday deeds of ordinary folk that keep the darkness at bay. Small\n",
      "acts of kindness and love. Why Bilbo Baggins[<--HERE]? Perhaps because I am afraid, and he gives me courage.\n",
      "-----------------------------------\n",
      "4 occurrences of \"ne(ss)?\"\n",
      "Saruman believes it is only great power that can hold evil in check, but that is not what I\n",
      "have found. I found it is the small everyday deeds of ordinary folk that keep the darkne[<--HERE]ss[<--HERE] at bay. Small\n",
      "acts of kindne[<--HERE]ss[<--HERE] and love. Why Bilbo Baggins? Perhaps because I am afraid, and he gives me courage.\n"
     ]
    }
   ],
   "source": [
    "exp = 'Why (Bilbo)* Baggins'\n",
    "regex_print_find(text, exp)\n",
    "print('-----------------------------------')\n",
    "\n",
    "exp = 'ne(ss)?'\n",
    "regex_print_find(text, exp)"
   ]
  },
  {
   "cell_type": "markdown",
   "metadata": {},
   "source": [
    "5. Klasy znaków:\n",
    "  - znaki pomiędzy nawiasami kwadratowymi [] - reprezentuje dowolny z danych znaków, np. [ab] oznacza a albo b,\n",
    "  - \\d - reprezentuje dowolną cyfrę dziesiętną,\n",
    "  - \\D - reprezentuje dowolny znak, który nie jest cyfrą dziesiętną,\n",
    "  - \\s - reprezentuje dowolny znak biały,\n",
    "  - \\S - reprezentuje dowolny znak, który nie jest znakiem białym,\n",
    "  - \\w - reprezentuje dowolny znak alfanumeryczny,\n",
    "  - \\W - reprezentuje dowolny znak, który niej jest znakiem alfanumerycznym."
   ]
  },
  {
   "cell_type": "code",
   "execution_count": 8,
   "metadata": {},
   "outputs": [
    {
     "name": "stdout",
     "output_type": "stream",
     "text": [
      "8 occurrences of \"an?[dt]\"\n",
      "Saruman believes it is only great[<--HERE] power that[<--HERE] can hold evil in check, but that[<--HERE] is not what[<--HERE] I\n",
      "have found. I found it is the small everyday deeds of ordinary folk that[<--HERE] keep the darkness at[<--HERE] bay. Small\n",
      "acts of kindness and[<--HERE] love. Why Bilbo Baggins? Perhaps because I am afraid, and[<--HERE] he gives me courage.\n",
      "-----------------------------------\n",
      "3 occurrences of \"I\\s\"\n",
      "Saruman believes it is only great power that can hold evil in check, but that is not what I\n",
      "[<--HERE]have found. I [<--HERE]found it is the small everyday deeds of ordinary folk that keep the darkness at bay. Small\n",
      "acts of kindness and love. Why Bilbo Baggins? Perhaps because I [<--HERE]am afraid, and he gives me courage.\n",
      "-----------------------------------\n",
      "10 occurrences of \"\\W[ b]\"\n",
      "Saruman b[<--HERE]elieves it is only great power that can hold evil in check, [<--HERE]b[<--HERE]ut that is not what I\n",
      "have found. [<--HERE]I found it is the small everyday deeds of ordinary folk that keep the darkness at b[<--HERE]ay. [<--HERE]Small\n",
      "acts of kindness and love. [<--HERE]Why Bilbo Baggins? [<--HERE]Perhaps b[<--HERE]ecause I am afraid, [<--HERE]and he gives me courage.\n"
     ]
    }
   ],
   "source": [
    "exp = 'an?[dt]'\n",
    "regex_print_find(text, exp)\n",
    "print('-----------------------------------')\n",
    "\n",
    "exp = 'I\\s'\n",
    "regex_print_find(text, exp)\n",
    "print('-----------------------------------')\n",
    "\n",
    "exp = '\\W[ b]'\n",
    "regex_print_find(text, exp)"
   ]
  }
 ],
 "metadata": {
  "kernelspec": {
   "display_name": "Python 3",
   "language": "python",
   "name": "python3"
  },
  "language_info": {
   "codemirror_mode": {
    "name": "ipython",
    "version": 3
   },
   "file_extension": ".py",
   "mimetype": "text/x-python",
   "name": "python",
   "nbconvert_exporter": "python",
   "pygments_lexer": "ipython3",
   "version": "3.7.4"
  }
 },
 "nbformat": 4,
 "nbformat_minor": 2
}
